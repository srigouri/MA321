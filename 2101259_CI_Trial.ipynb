{
  "nbformat": 4,
  "nbformat_minor": 0,
  "metadata": {
    "colab": {
      "name": "2101259.ipynb",
      "provenance": [],
      "collapsed_sections": [],
      "authorship_tag": "ABX9TyPHM46Jw8ZDC3bLM4mdNIQl",
      "include_colab_link": true
    },
    "kernelspec": {
      "name": "python3",
      "display_name": "Python 3"
    },
    "language_info": {
      "name": "python"
    }
  },
  "cells": [
    {
      "cell_type": "markdown",
      "metadata": {
        "id": "view-in-github",
        "colab_type": "text"
      },
      "source": [
        "<a href=\"https://colab.research.google.com/github/srigouri/MA321/blob/main/2101259_CI_Trial.ipynb\" target=\"_parent\"><img src=\"https://colab.research.google.com/assets/colab-badge.svg\" alt=\"Open In Colab\"/></a>"
      ]
    },
    {
      "cell_type": "markdown",
      "source": [
        "CAUSAL INFERENCE ON IHDP AND JOBS DATASET \n",
        "-------------------\n",
        "\n",
        "My assignment is to train a machine learning model for which causality remains a hurdle.Making predictions and dealing with unfamiliar events is difficult when there is a lack of causal knowledge.Causality can help machine learning's inability to generalise.Here the task is divided into 2 parts.\n",
        "Part-1 deals with IHDP dataset and \n",
        "Part-2 deals with Jobs dataset."
      ],
      "metadata": {
        "id": "HfoqjkOk_ccY"
      }
    },
    {
      "cell_type": "markdown",
      "source": [
        "#Step-1 Loading required packages:"
      ],
      "metadata": {
        "id": "ujkdWjf-CyOx"
      }
    },
    {
      "cell_type": "code",
      "source": [
        "!pip install econml"
      ],
      "metadata": {
        "colab": {
          "base_uri": "https://localhost:8080/"
        },
        "id": "RiGMuBPiC6jW",
        "outputId": "d1bc9782-8de1-4bc1-8ffc-27f2e4acfdf8"
      },
      "execution_count": null,
      "outputs": [
        {
          "output_type": "stream",
          "name": "stdout",
          "text": [
            "Collecting econml\n",
            "  Downloading econml-0.13.0-cp37-cp37m-manylinux_2_17_x86_64.manylinux2014_x86_64.whl (3.3 MB)\n",
            "\u001b[K     |████████████████████████████████| 3.3 MB 5.6 MB/s \n",
            "\u001b[?25hCollecting dowhy<0.7\n",
            "  Downloading dowhy-0.6-py3-none-any.whl (123 kB)\n",
            "\u001b[K     |████████████████████████████████| 123 kB 46.5 MB/s \n",
            "\u001b[?25hCollecting sparse\n",
            "  Downloading sparse-0.13.0-py2.py3-none-any.whl (77 kB)\n",
            "\u001b[K     |████████████████████████████████| 77 kB 6.0 MB/s \n",
            "\u001b[?25hRequirement already satisfied: statsmodels>=0.10 in /usr/local/lib/python3.7/dist-packages (from econml) (0.10.2)\n",
            "Requirement already satisfied: scikit-learn>0.22.0 in /usr/local/lib/python3.7/dist-packages (from econml) (1.0.2)\n",
            "Requirement already satisfied: lightgbm in /usr/local/lib/python3.7/dist-packages (from econml) (2.2.3)\n",
            "Requirement already satisfied: scipy>1.4.0 in /usr/local/lib/python3.7/dist-packages (from econml) (1.4.1)\n",
            "Requirement already satisfied: joblib>=0.13.0 in /usr/local/lib/python3.7/dist-packages (from econml) (1.1.0)\n",
            "Requirement already satisfied: pandas in /usr/local/lib/python3.7/dist-packages (from econml) (1.3.5)\n",
            "Requirement already satisfied: numpy in /usr/local/lib/python3.7/dist-packages (from econml) (1.21.5)\n",
            "Collecting shap<0.40.0,>=0.38.1\n",
            "  Downloading shap-0.39.0.tar.gz (356 kB)\n",
            "\u001b[K     |████████████████████████████████| 356 kB 45.8 MB/s \n",
            "\u001b[?25hRequirement already satisfied: networkx>=2.0 in /usr/local/lib/python3.7/dist-packages (from dowhy<0.7->econml) (2.6.3)\n",
            "Collecting pydot>=1.4\n",
            "  Downloading pydot-1.4.2-py2.py3-none-any.whl (21 kB)\n",
            "Requirement already satisfied: sympy>=1.4 in /usr/local/lib/python3.7/dist-packages (from dowhy<0.7->econml) (1.7.1)\n",
            "Requirement already satisfied: python-dateutil>=2.7.3 in /usr/local/lib/python3.7/dist-packages (from pandas->econml) (2.8.2)\n",
            "Requirement already satisfied: pytz>=2017.3 in /usr/local/lib/python3.7/dist-packages (from pandas->econml) (2018.9)\n",
            "Requirement already satisfied: pyparsing>=2.1.4 in /usr/local/lib/python3.7/dist-packages (from pydot>=1.4->dowhy<0.7->econml) (3.0.7)\n",
            "Requirement already satisfied: six>=1.5 in /usr/local/lib/python3.7/dist-packages (from python-dateutil>=2.7.3->pandas->econml) (1.15.0)\n",
            "Requirement already satisfied: threadpoolctl>=2.0.0 in /usr/local/lib/python3.7/dist-packages (from scikit-learn>0.22.0->econml) (3.1.0)\n",
            "Requirement already satisfied: tqdm>4.25.0 in /usr/local/lib/python3.7/dist-packages (from shap<0.40.0,>=0.38.1->econml) (4.63.0)\n",
            "Collecting slicer==0.0.7\n",
            "  Downloading slicer-0.0.7-py3-none-any.whl (14 kB)\n",
            "Requirement already satisfied: numba in /usr/local/lib/python3.7/dist-packages (from shap<0.40.0,>=0.38.1->econml) (0.51.2)\n",
            "Requirement already satisfied: cloudpickle in /usr/local/lib/python3.7/dist-packages (from shap<0.40.0,>=0.38.1->econml) (1.3.0)\n",
            "Requirement already satisfied: patsy>=0.4.0 in /usr/local/lib/python3.7/dist-packages (from statsmodels>=0.10->econml) (0.5.2)\n",
            "Requirement already satisfied: mpmath>=0.19 in /usr/local/lib/python3.7/dist-packages (from sympy>=1.4->dowhy<0.7->econml) (1.2.1)\n",
            "Requirement already satisfied: setuptools in /usr/local/lib/python3.7/dist-packages (from numba->shap<0.40.0,>=0.38.1->econml) (57.4.0)\n",
            "Requirement already satisfied: llvmlite<0.35,>=0.34.0.dev0 in /usr/local/lib/python3.7/dist-packages (from numba->shap<0.40.0,>=0.38.1->econml) (0.34.0)\n",
            "Building wheels for collected packages: shap\n",
            "  Building wheel for shap (setup.py) ... \u001b[?25l\u001b[?25hdone\n",
            "  Created wheel for shap: filename=shap-0.39.0-cp37-cp37m-linux_x86_64.whl size=491652 sha256=99feb5b2c11130afe3dbb56725aae191a83e30f8923a5cc72e78007bc5dc27c8\n",
            "  Stored in directory: /root/.cache/pip/wheels/ca/25/8f/6ae5df62c32651cd719e972e738a8aaa4a87414c4d2b14c9c0\n",
            "Successfully built shap\n",
            "Installing collected packages: slicer, pydot, sparse, shap, dowhy, econml\n",
            "  Attempting uninstall: pydot\n",
            "    Found existing installation: pydot 1.3.0\n",
            "    Uninstalling pydot-1.3.0:\n",
            "      Successfully uninstalled pydot-1.3.0\n",
            "Successfully installed dowhy-0.6 econml-0.13.0 pydot-1.4.2 shap-0.39.0 slicer-0.0.7 sparse-0.13.0\n"
          ]
        }
      ]
    },
    {
      "cell_type": "code",
      "source": [
        "from econml.metalearners import XLearner\n",
        "from sklearn.ensemble import RandomForestRegressor, RandomForestClassifier\n",
        "from sklearn.model_selection import train_test_split\n",
        "from sklearn.preprocessing import StandardScaler\n",
        "import numpy as np\n",
        "import pandas as pd\n",
        "import scipy.stats as st\n",
        "from sklearn.decomposition import PCA\n",
        "import seaborn as sns\n",
        "import matplotlib.pyplot as plt\n",
        "import dowhy\n",
        "from dowhy import CausalModel"
      ],
      "metadata": {
        "id": "Y_VEMY8FDZQk",
        "outputId": "c0ae62ca-0cfb-4d4c-b91a-f5e6c50ed5b4",
        "colab": {
          "base_uri": "https://localhost:8080/"
        }
      },
      "execution_count": null,
      "outputs": [
        {
          "output_type": "stream",
          "name": "stderr",
          "text": [
            "/usr/local/lib/python3.7/dist-packages/statsmodels/tools/_testing.py:19: FutureWarning: pandas.util.testing is deprecated. Use the functions in the public API at pandas.testing instead.\n",
            "  import pandas.util.testing as tm\n"
          ]
        }
      ]
    },
    {
      "cell_type": "markdown",
      "source": [
        "# **PART-1**\n",
        "\n",
        "---\n",
        "# Step-2  Average Effect:\n",
        "\n"
      ],
      "metadata": {
        "id": "2Dk32IQyJDxo"
      }
    },
    {
      "cell_type": "markdown",
      "source": [
        "# 1.Problem Setting\n",
        "\n",
        "To estimate the casual effects of how the family support (treatment) effects the cognitive test score for the child (outcome).\n"
      ],
      "metadata": {
        "id": "M0jbj-eOB2vq"
      }
    },
    {
      "cell_type": "markdown",
      "source": [
        "#2.Metrics"
      ],
      "metadata": {
        "id": "1LO-PFlQrOBF"
      }
    },
    {
      "cell_type": "markdown",
      "source": [
        "These are the two functions used to calculate Absolute error for the Average Treatment Effect (ATE) and Precision in Estimating the Heterogeneous Treatment Effect (PEHE) using two arguments true treatment effect value(effect_true) and predicted treatment effect value(effect_pred)."
      ],
      "metadata": {
        "id": "kxw05xlWrkQE"
      }
    },
    {
      "cell_type": "code",
      "source": [
        "def abs_ate(effect_true, effect_pred):\n",
        "  return np.abs((np.mean(effect_true)-(np.mean(effect_pred))))\n",
        "\n",
        "def pehe(effect_true, effect_pred):\n",
        "  return np.sqrt(np.mean(np.square((effect_true - effect_pred))))"
      ],
      "metadata": {
        "id": "_ptAvOizrSsp"
      },
      "execution_count": null,
      "outputs": []
    },
    {
      "cell_type": "markdown",
      "source": [
        "Loading IHDP Dataset:"
      ],
      "metadata": {
        "id": "KzGvKNQ7_25u"
      }
    },
    {
      "cell_type": "code",
      "execution_count": null,
      "metadata": {
        "colab": {
          "base_uri": "https://localhost:8080/",
          "height": 235
        },
        "id": "qZ1yV8NSaw2t",
        "outputId": "0daa2e74-547c-4cc0-8743-1f8984201fb6"
      },
      "outputs": [
        {
          "output_type": "execute_result",
          "data": {
            "text/plain": [
              "         x1        x2        x3        x4        x5        x6   x7   x8   x9  \\\n",
              "0  1.397395  0.996346 -1.105624 -0.879606  0.308569 -1.023402  1.0  0.0  0.0   \n",
              "1  0.269033  0.196818  0.383828  0.161703 -0.629189  1.460832  1.0  0.0  1.0   \n",
              "2  1.051537  1.795874 -1.105624  0.161703 -0.629189  0.963985  1.0  0.0  1.0   \n",
              "3  0.662446  0.196818 -0.733261 -0.879606  0.371086 -0.692171  1.0  0.0  0.0   \n",
              "4  0.856992  1.795874  0.011465 -0.879606  0.558638  0.301522  0.0  1.0  1.0   \n",
              "\n",
              "   x10  ...  x20  x21  x22  x23  x24  x25    t        yf       ycf       ite  \n",
              "0  0.0  ...  0.0  0.0  0.0  0.0  0.0  1.0  1.0  4.771232 -0.298509  4.657928  \n",
              "1  0.0  ...  0.0  0.0  0.0  0.0  0.0  0.0  0.0  2.956273  5.783770  3.428604  \n",
              "2  1.0  ...  0.0  0.0  0.0  0.0  0.0  1.0  0.0  4.164164  7.055789  3.658195  \n",
              "3  0.0  ...  1.0  0.0  0.0  0.0  0.0  0.0  1.0  6.172307  1.379697  4.585505  \n",
              "4  0.0  ...  0.0  0.0  0.0  0.0  0.0  0.0  1.0  7.834469  2.747986  4.265591  \n",
              "\n",
              "[5 rows x 29 columns]"
            ],
            "text/html": [
              "\n",
              "  <div id=\"df-2d7e678b-7fc4-464a-be92-0d856975c75a\">\n",
              "    <div class=\"colab-df-container\">\n",
              "      <div>\n",
              "<style scoped>\n",
              "    .dataframe tbody tr th:only-of-type {\n",
              "        vertical-align: middle;\n",
              "    }\n",
              "\n",
              "    .dataframe tbody tr th {\n",
              "        vertical-align: top;\n",
              "    }\n",
              "\n",
              "    .dataframe thead th {\n",
              "        text-align: right;\n",
              "    }\n",
              "</style>\n",
              "<table border=\"1\" class=\"dataframe\">\n",
              "  <thead>\n",
              "    <tr style=\"text-align: right;\">\n",
              "      <th></th>\n",
              "      <th>x1</th>\n",
              "      <th>x2</th>\n",
              "      <th>x3</th>\n",
              "      <th>x4</th>\n",
              "      <th>x5</th>\n",
              "      <th>x6</th>\n",
              "      <th>x7</th>\n",
              "      <th>x8</th>\n",
              "      <th>x9</th>\n",
              "      <th>x10</th>\n",
              "      <th>...</th>\n",
              "      <th>x20</th>\n",
              "      <th>x21</th>\n",
              "      <th>x22</th>\n",
              "      <th>x23</th>\n",
              "      <th>x24</th>\n",
              "      <th>x25</th>\n",
              "      <th>t</th>\n",
              "      <th>yf</th>\n",
              "      <th>ycf</th>\n",
              "      <th>ite</th>\n",
              "    </tr>\n",
              "  </thead>\n",
              "  <tbody>\n",
              "    <tr>\n",
              "      <th>0</th>\n",
              "      <td>1.397395</td>\n",
              "      <td>0.996346</td>\n",
              "      <td>-1.105624</td>\n",
              "      <td>-0.879606</td>\n",
              "      <td>0.308569</td>\n",
              "      <td>-1.023402</td>\n",
              "      <td>1.0</td>\n",
              "      <td>0.0</td>\n",
              "      <td>0.0</td>\n",
              "      <td>0.0</td>\n",
              "      <td>...</td>\n",
              "      <td>0.0</td>\n",
              "      <td>0.0</td>\n",
              "      <td>0.0</td>\n",
              "      <td>0.0</td>\n",
              "      <td>0.0</td>\n",
              "      <td>1.0</td>\n",
              "      <td>1.0</td>\n",
              "      <td>4.771232</td>\n",
              "      <td>-0.298509</td>\n",
              "      <td>4.657928</td>\n",
              "    </tr>\n",
              "    <tr>\n",
              "      <th>1</th>\n",
              "      <td>0.269033</td>\n",
              "      <td>0.196818</td>\n",
              "      <td>0.383828</td>\n",
              "      <td>0.161703</td>\n",
              "      <td>-0.629189</td>\n",
              "      <td>1.460832</td>\n",
              "      <td>1.0</td>\n",
              "      <td>0.0</td>\n",
              "      <td>1.0</td>\n",
              "      <td>0.0</td>\n",
              "      <td>...</td>\n",
              "      <td>0.0</td>\n",
              "      <td>0.0</td>\n",
              "      <td>0.0</td>\n",
              "      <td>0.0</td>\n",
              "      <td>0.0</td>\n",
              "      <td>0.0</td>\n",
              "      <td>0.0</td>\n",
              "      <td>2.956273</td>\n",
              "      <td>5.783770</td>\n",
              "      <td>3.428604</td>\n",
              "    </tr>\n",
              "    <tr>\n",
              "      <th>2</th>\n",
              "      <td>1.051537</td>\n",
              "      <td>1.795874</td>\n",
              "      <td>-1.105624</td>\n",
              "      <td>0.161703</td>\n",
              "      <td>-0.629189</td>\n",
              "      <td>0.963985</td>\n",
              "      <td>1.0</td>\n",
              "      <td>0.0</td>\n",
              "      <td>1.0</td>\n",
              "      <td>1.0</td>\n",
              "      <td>...</td>\n",
              "      <td>0.0</td>\n",
              "      <td>0.0</td>\n",
              "      <td>0.0</td>\n",
              "      <td>0.0</td>\n",
              "      <td>0.0</td>\n",
              "      <td>1.0</td>\n",
              "      <td>0.0</td>\n",
              "      <td>4.164164</td>\n",
              "      <td>7.055789</td>\n",
              "      <td>3.658195</td>\n",
              "    </tr>\n",
              "    <tr>\n",
              "      <th>3</th>\n",
              "      <td>0.662446</td>\n",
              "      <td>0.196818</td>\n",
              "      <td>-0.733261</td>\n",
              "      <td>-0.879606</td>\n",
              "      <td>0.371086</td>\n",
              "      <td>-0.692171</td>\n",
              "      <td>1.0</td>\n",
              "      <td>0.0</td>\n",
              "      <td>0.0</td>\n",
              "      <td>0.0</td>\n",
              "      <td>...</td>\n",
              "      <td>1.0</td>\n",
              "      <td>0.0</td>\n",
              "      <td>0.0</td>\n",
              "      <td>0.0</td>\n",
              "      <td>0.0</td>\n",
              "      <td>0.0</td>\n",
              "      <td>1.0</td>\n",
              "      <td>6.172307</td>\n",
              "      <td>1.379697</td>\n",
              "      <td>4.585505</td>\n",
              "    </tr>\n",
              "    <tr>\n",
              "      <th>4</th>\n",
              "      <td>0.856992</td>\n",
              "      <td>1.795874</td>\n",
              "      <td>0.011465</td>\n",
              "      <td>-0.879606</td>\n",
              "      <td>0.558638</td>\n",
              "      <td>0.301522</td>\n",
              "      <td>0.0</td>\n",
              "      <td>1.0</td>\n",
              "      <td>1.0</td>\n",
              "      <td>0.0</td>\n",
              "      <td>...</td>\n",
              "      <td>0.0</td>\n",
              "      <td>0.0</td>\n",
              "      <td>0.0</td>\n",
              "      <td>0.0</td>\n",
              "      <td>0.0</td>\n",
              "      <td>0.0</td>\n",
              "      <td>1.0</td>\n",
              "      <td>7.834469</td>\n",
              "      <td>2.747986</td>\n",
              "      <td>4.265591</td>\n",
              "    </tr>\n",
              "  </tbody>\n",
              "</table>\n",
              "<p>5 rows × 29 columns</p>\n",
              "</div>\n",
              "      <button class=\"colab-df-convert\" onclick=\"convertToInteractive('df-2d7e678b-7fc4-464a-be92-0d856975c75a')\"\n",
              "              title=\"Convert this dataframe to an interactive table.\"\n",
              "              style=\"display:none;\">\n",
              "        \n",
              "  <svg xmlns=\"http://www.w3.org/2000/svg\" height=\"24px\"viewBox=\"0 0 24 24\"\n",
              "       width=\"24px\">\n",
              "    <path d=\"M0 0h24v24H0V0z\" fill=\"none\"/>\n",
              "    <path d=\"M18.56 5.44l.94 2.06.94-2.06 2.06-.94-2.06-.94-.94-2.06-.94 2.06-2.06.94zm-11 1L8.5 8.5l.94-2.06 2.06-.94-2.06-.94L8.5 2.5l-.94 2.06-2.06.94zm10 10l.94 2.06.94-2.06 2.06-.94-2.06-.94-.94-2.06-.94 2.06-2.06.94z\"/><path d=\"M17.41 7.96l-1.37-1.37c-.4-.4-.92-.59-1.43-.59-.52 0-1.04.2-1.43.59L10.3 9.45l-7.72 7.72c-.78.78-.78 2.05 0 2.83L4 21.41c.39.39.9.59 1.41.59.51 0 1.02-.2 1.41-.59l7.78-7.78 2.81-2.81c.8-.78.8-2.07 0-2.86zM5.41 20L4 18.59l7.72-7.72 1.47 1.35L5.41 20z\"/>\n",
              "  </svg>\n",
              "      </button>\n",
              "      \n",
              "  <style>\n",
              "    .colab-df-container {\n",
              "      display:flex;\n",
              "      flex-wrap:wrap;\n",
              "      gap: 12px;\n",
              "    }\n",
              "\n",
              "    .colab-df-convert {\n",
              "      background-color: #E8F0FE;\n",
              "      border: none;\n",
              "      border-radius: 50%;\n",
              "      cursor: pointer;\n",
              "      display: none;\n",
              "      fill: #1967D2;\n",
              "      height: 32px;\n",
              "      padding: 0 0 0 0;\n",
              "      width: 32px;\n",
              "    }\n",
              "\n",
              "    .colab-df-convert:hover {\n",
              "      background-color: #E2EBFA;\n",
              "      box-shadow: 0px 1px 2px rgba(60, 64, 67, 0.3), 0px 1px 3px 1px rgba(60, 64, 67, 0.15);\n",
              "      fill: #174EA6;\n",
              "    }\n",
              "\n",
              "    [theme=dark] .colab-df-convert {\n",
              "      background-color: #3B4455;\n",
              "      fill: #D2E3FC;\n",
              "    }\n",
              "\n",
              "    [theme=dark] .colab-df-convert:hover {\n",
              "      background-color: #434B5C;\n",
              "      box-shadow: 0px 1px 3px 1px rgba(0, 0, 0, 0.15);\n",
              "      filter: drop-shadow(0px 1px 2px rgba(0, 0, 0, 0.3));\n",
              "      fill: #FFFFFF;\n",
              "    }\n",
              "  </style>\n",
              "\n",
              "      <script>\n",
              "        const buttonEl =\n",
              "          document.querySelector('#df-2d7e678b-7fc4-464a-be92-0d856975c75a button.colab-df-convert');\n",
              "        buttonEl.style.display =\n",
              "          google.colab.kernel.accessAllowed ? 'block' : 'none';\n",
              "\n",
              "        async function convertToInteractive(key) {\n",
              "          const element = document.querySelector('#df-2d7e678b-7fc4-464a-be92-0d856975c75a');\n",
              "          const dataTable =\n",
              "            await google.colab.kernel.invokeFunction('convertToInteractive',\n",
              "                                                     [key], {});\n",
              "          if (!dataTable) return;\n",
              "\n",
              "          const docLinkHtml = 'Like what you see? Visit the ' +\n",
              "            '<a target=\"_blank\" href=https://colab.research.google.com/notebooks/data_table.ipynb>data table notebook</a>'\n",
              "            + ' to learn more about interactive tables.';\n",
              "          element.innerHTML = '';\n",
              "          dataTable['output_type'] = 'display_data';\n",
              "          await google.colab.output.renderOutput(dataTable, element);\n",
              "          const docLink = document.createElement('div');\n",
              "          docLink.innerHTML = docLinkHtml;\n",
              "          element.appendChild(docLink);\n",
              "        }\n",
              "      </script>\n",
              "    </div>\n",
              "  </div>\n",
              "  "
            ]
          },
          "metadata": {},
          "execution_count": 5
        }
      ],
      "source": [
        "ihdp_data=pd.read_csv('https://raw.githubusercontent.com/dmachlanski/CE888_2022/main/project/data/ihdp.csv')\n",
        "ihdp_data.head()"
      ]
    },
    {
      "cell_type": "code",
      "source": [
        "ihdp_data.describe()"
      ],
      "metadata": {
        "colab": {
          "base_uri": "https://localhost:8080/",
          "height": 394
        },
        "id": "Lo_hCsFdn-9N",
        "outputId": "36925ad5-fbc6-4750-d64a-fbffeae51ab2"
      },
      "execution_count": null,
      "outputs": [
        {
          "output_type": "execute_result",
          "data": {
            "text/plain": [
              "                 x1            x2            x3            x4            x5  \\\n",
              "count  7.470000e+02  7.470000e+02  7.470000e+02  7.470000e+02  7.470000e+02   \n",
              "mean   3.626431e-17  2.348263e-17 -4.666801e-17 -9.012574e-16  4.518177e-17   \n",
              "std    1.000000e+00  1.000000e+00  1.000000e+00  1.000000e+00  1.000000e+00   \n",
              "min   -2.731287e+00 -3.800823e+00 -1.850350e+00 -8.796060e-01 -5.130428e+00   \n",
              "25%   -6.669461e-01 -6.027100e-01 -7.332610e-01 -8.796060e-01 -5.666720e-01   \n",
              "50%    1.652752e-01  1.968181e-01 -3.608980e-01  1.617025e-01  1.210172e-01   \n",
              "75%    8.137593e-01  5.965822e-01  7.561910e-01  1.617025e-01  6.836721e-01   \n",
              "max    1.505476e+00  2.595403e+00  2.990369e+00  2.244320e+00  2.371637e+00   \n",
              "\n",
              "                 x6          x7          x8          x9         x10  ...  \\\n",
              "count  7.470000e+02  747.000000  747.000000  747.000000  747.000000  ...   \n",
              "mean  -7.251376e-16    0.514056    0.093708    0.520750    0.364123  ...   \n",
              "std    1.000000e+00    0.500137    0.291618    0.499904    0.481506  ...   \n",
              "min   -1.851480e+00    0.000000    0.000000    0.000000    0.000000  ...   \n",
              "25%   -8.577868e-01    0.000000    0.000000    0.000000    0.000000  ...   \n",
              "50%   -2.970882e-02    1.000000    0.000000    1.000000    0.000000  ...   \n",
              "75%    6.327536e-01    1.000000    0.000000    1.000000    1.000000  ...   \n",
              "max    2.951372e+00    1.000000    1.000000    1.000000    1.000000  ...   \n",
              "\n",
              "              x20         x21         x22         x23         x24         x25  \\\n",
              "count  747.000000  747.000000  747.000000  747.000000  747.000000  747.000000   \n",
              "mean     0.135207    0.156627    0.081660    0.073628    0.128514    0.157965   \n",
              "std      0.342174    0.363692    0.274029    0.261339    0.334886    0.364953   \n",
              "min      0.000000    0.000000    0.000000    0.000000    0.000000    0.000000   \n",
              "25%      0.000000    0.000000    0.000000    0.000000    0.000000    0.000000   \n",
              "50%      0.000000    0.000000    0.000000    0.000000    0.000000    0.000000   \n",
              "75%      0.000000    0.000000    0.000000    0.000000    0.000000    0.000000   \n",
              "max      1.000000    1.000000    1.000000    1.000000    1.000000    1.000000   \n",
              "\n",
              "                t          yf         ycf         ite  \n",
              "count  747.000000  747.000000  747.000000  747.000000  \n",
              "mean     0.186078    3.159538    5.696107    4.016067  \n",
              "std      0.389430    2.179956    1.980121    0.859736  \n",
              "min      0.000000   -1.543902   -1.037628   -1.866989  \n",
              "25%      0.000000    1.626779    5.053598    3.775936  \n",
              "50%      0.000000    2.577294    6.209686    4.304433  \n",
              "75%      0.000000    4.494637    6.948922    4.569454  \n",
              "max      1.000000   11.268228   10.171004    4.670125  \n",
              "\n",
              "[8 rows x 29 columns]"
            ],
            "text/html": [
              "\n",
              "  <div id=\"df-9aea7d4f-b8f3-4360-b532-c263116b52be\">\n",
              "    <div class=\"colab-df-container\">\n",
              "      <div>\n",
              "<style scoped>\n",
              "    .dataframe tbody tr th:only-of-type {\n",
              "        vertical-align: middle;\n",
              "    }\n",
              "\n",
              "    .dataframe tbody tr th {\n",
              "        vertical-align: top;\n",
              "    }\n",
              "\n",
              "    .dataframe thead th {\n",
              "        text-align: right;\n",
              "    }\n",
              "</style>\n",
              "<table border=\"1\" class=\"dataframe\">\n",
              "  <thead>\n",
              "    <tr style=\"text-align: right;\">\n",
              "      <th></th>\n",
              "      <th>x1</th>\n",
              "      <th>x2</th>\n",
              "      <th>x3</th>\n",
              "      <th>x4</th>\n",
              "      <th>x5</th>\n",
              "      <th>x6</th>\n",
              "      <th>x7</th>\n",
              "      <th>x8</th>\n",
              "      <th>x9</th>\n",
              "      <th>x10</th>\n",
              "      <th>...</th>\n",
              "      <th>x20</th>\n",
              "      <th>x21</th>\n",
              "      <th>x22</th>\n",
              "      <th>x23</th>\n",
              "      <th>x24</th>\n",
              "      <th>x25</th>\n",
              "      <th>t</th>\n",
              "      <th>yf</th>\n",
              "      <th>ycf</th>\n",
              "      <th>ite</th>\n",
              "    </tr>\n",
              "  </thead>\n",
              "  <tbody>\n",
              "    <tr>\n",
              "      <th>count</th>\n",
              "      <td>7.470000e+02</td>\n",
              "      <td>7.470000e+02</td>\n",
              "      <td>7.470000e+02</td>\n",
              "      <td>7.470000e+02</td>\n",
              "      <td>7.470000e+02</td>\n",
              "      <td>7.470000e+02</td>\n",
              "      <td>747.000000</td>\n",
              "      <td>747.000000</td>\n",
              "      <td>747.000000</td>\n",
              "      <td>747.000000</td>\n",
              "      <td>...</td>\n",
              "      <td>747.000000</td>\n",
              "      <td>747.000000</td>\n",
              "      <td>747.000000</td>\n",
              "      <td>747.000000</td>\n",
              "      <td>747.000000</td>\n",
              "      <td>747.000000</td>\n",
              "      <td>747.000000</td>\n",
              "      <td>747.000000</td>\n",
              "      <td>747.000000</td>\n",
              "      <td>747.000000</td>\n",
              "    </tr>\n",
              "    <tr>\n",
              "      <th>mean</th>\n",
              "      <td>3.626431e-17</td>\n",
              "      <td>2.348263e-17</td>\n",
              "      <td>-4.666801e-17</td>\n",
              "      <td>-9.012574e-16</td>\n",
              "      <td>4.518177e-17</td>\n",
              "      <td>-7.251376e-16</td>\n",
              "      <td>0.514056</td>\n",
              "      <td>0.093708</td>\n",
              "      <td>0.520750</td>\n",
              "      <td>0.364123</td>\n",
              "      <td>...</td>\n",
              "      <td>0.135207</td>\n",
              "      <td>0.156627</td>\n",
              "      <td>0.081660</td>\n",
              "      <td>0.073628</td>\n",
              "      <td>0.128514</td>\n",
              "      <td>0.157965</td>\n",
              "      <td>0.186078</td>\n",
              "      <td>3.159538</td>\n",
              "      <td>5.696107</td>\n",
              "      <td>4.016067</td>\n",
              "    </tr>\n",
              "    <tr>\n",
              "      <th>std</th>\n",
              "      <td>1.000000e+00</td>\n",
              "      <td>1.000000e+00</td>\n",
              "      <td>1.000000e+00</td>\n",
              "      <td>1.000000e+00</td>\n",
              "      <td>1.000000e+00</td>\n",
              "      <td>1.000000e+00</td>\n",
              "      <td>0.500137</td>\n",
              "      <td>0.291618</td>\n",
              "      <td>0.499904</td>\n",
              "      <td>0.481506</td>\n",
              "      <td>...</td>\n",
              "      <td>0.342174</td>\n",
              "      <td>0.363692</td>\n",
              "      <td>0.274029</td>\n",
              "      <td>0.261339</td>\n",
              "      <td>0.334886</td>\n",
              "      <td>0.364953</td>\n",
              "      <td>0.389430</td>\n",
              "      <td>2.179956</td>\n",
              "      <td>1.980121</td>\n",
              "      <td>0.859736</td>\n",
              "    </tr>\n",
              "    <tr>\n",
              "      <th>min</th>\n",
              "      <td>-2.731287e+00</td>\n",
              "      <td>-3.800823e+00</td>\n",
              "      <td>-1.850350e+00</td>\n",
              "      <td>-8.796060e-01</td>\n",
              "      <td>-5.130428e+00</td>\n",
              "      <td>-1.851480e+00</td>\n",
              "      <td>0.000000</td>\n",
              "      <td>0.000000</td>\n",
              "      <td>0.000000</td>\n",
              "      <td>0.000000</td>\n",
              "      <td>...</td>\n",
              "      <td>0.000000</td>\n",
              "      <td>0.000000</td>\n",
              "      <td>0.000000</td>\n",
              "      <td>0.000000</td>\n",
              "      <td>0.000000</td>\n",
              "      <td>0.000000</td>\n",
              "      <td>0.000000</td>\n",
              "      <td>-1.543902</td>\n",
              "      <td>-1.037628</td>\n",
              "      <td>-1.866989</td>\n",
              "    </tr>\n",
              "    <tr>\n",
              "      <th>25%</th>\n",
              "      <td>-6.669461e-01</td>\n",
              "      <td>-6.027100e-01</td>\n",
              "      <td>-7.332610e-01</td>\n",
              "      <td>-8.796060e-01</td>\n",
              "      <td>-5.666720e-01</td>\n",
              "      <td>-8.577868e-01</td>\n",
              "      <td>0.000000</td>\n",
              "      <td>0.000000</td>\n",
              "      <td>0.000000</td>\n",
              "      <td>0.000000</td>\n",
              "      <td>...</td>\n",
              "      <td>0.000000</td>\n",
              "      <td>0.000000</td>\n",
              "      <td>0.000000</td>\n",
              "      <td>0.000000</td>\n",
              "      <td>0.000000</td>\n",
              "      <td>0.000000</td>\n",
              "      <td>0.000000</td>\n",
              "      <td>1.626779</td>\n",
              "      <td>5.053598</td>\n",
              "      <td>3.775936</td>\n",
              "    </tr>\n",
              "    <tr>\n",
              "      <th>50%</th>\n",
              "      <td>1.652752e-01</td>\n",
              "      <td>1.968181e-01</td>\n",
              "      <td>-3.608980e-01</td>\n",
              "      <td>1.617025e-01</td>\n",
              "      <td>1.210172e-01</td>\n",
              "      <td>-2.970882e-02</td>\n",
              "      <td>1.000000</td>\n",
              "      <td>0.000000</td>\n",
              "      <td>1.000000</td>\n",
              "      <td>0.000000</td>\n",
              "      <td>...</td>\n",
              "      <td>0.000000</td>\n",
              "      <td>0.000000</td>\n",
              "      <td>0.000000</td>\n",
              "      <td>0.000000</td>\n",
              "      <td>0.000000</td>\n",
              "      <td>0.000000</td>\n",
              "      <td>0.000000</td>\n",
              "      <td>2.577294</td>\n",
              "      <td>6.209686</td>\n",
              "      <td>4.304433</td>\n",
              "    </tr>\n",
              "    <tr>\n",
              "      <th>75%</th>\n",
              "      <td>8.137593e-01</td>\n",
              "      <td>5.965822e-01</td>\n",
              "      <td>7.561910e-01</td>\n",
              "      <td>1.617025e-01</td>\n",
              "      <td>6.836721e-01</td>\n",
              "      <td>6.327536e-01</td>\n",
              "      <td>1.000000</td>\n",
              "      <td>0.000000</td>\n",
              "      <td>1.000000</td>\n",
              "      <td>1.000000</td>\n",
              "      <td>...</td>\n",
              "      <td>0.000000</td>\n",
              "      <td>0.000000</td>\n",
              "      <td>0.000000</td>\n",
              "      <td>0.000000</td>\n",
              "      <td>0.000000</td>\n",
              "      <td>0.000000</td>\n",
              "      <td>0.000000</td>\n",
              "      <td>4.494637</td>\n",
              "      <td>6.948922</td>\n",
              "      <td>4.569454</td>\n",
              "    </tr>\n",
              "    <tr>\n",
              "      <th>max</th>\n",
              "      <td>1.505476e+00</td>\n",
              "      <td>2.595403e+00</td>\n",
              "      <td>2.990369e+00</td>\n",
              "      <td>2.244320e+00</td>\n",
              "      <td>2.371637e+00</td>\n",
              "      <td>2.951372e+00</td>\n",
              "      <td>1.000000</td>\n",
              "      <td>1.000000</td>\n",
              "      <td>1.000000</td>\n",
              "      <td>1.000000</td>\n",
              "      <td>...</td>\n",
              "      <td>1.000000</td>\n",
              "      <td>1.000000</td>\n",
              "      <td>1.000000</td>\n",
              "      <td>1.000000</td>\n",
              "      <td>1.000000</td>\n",
              "      <td>1.000000</td>\n",
              "      <td>1.000000</td>\n",
              "      <td>11.268228</td>\n",
              "      <td>10.171004</td>\n",
              "      <td>4.670125</td>\n",
              "    </tr>\n",
              "  </tbody>\n",
              "</table>\n",
              "<p>8 rows × 29 columns</p>\n",
              "</div>\n",
              "      <button class=\"colab-df-convert\" onclick=\"convertToInteractive('df-9aea7d4f-b8f3-4360-b532-c263116b52be')\"\n",
              "              title=\"Convert this dataframe to an interactive table.\"\n",
              "              style=\"display:none;\">\n",
              "        \n",
              "  <svg xmlns=\"http://www.w3.org/2000/svg\" height=\"24px\"viewBox=\"0 0 24 24\"\n",
              "       width=\"24px\">\n",
              "    <path d=\"M0 0h24v24H0V0z\" fill=\"none\"/>\n",
              "    <path d=\"M18.56 5.44l.94 2.06.94-2.06 2.06-.94-2.06-.94-.94-2.06-.94 2.06-2.06.94zm-11 1L8.5 8.5l.94-2.06 2.06-.94-2.06-.94L8.5 2.5l-.94 2.06-2.06.94zm10 10l.94 2.06.94-2.06 2.06-.94-2.06-.94-.94-2.06-.94 2.06-2.06.94z\"/><path d=\"M17.41 7.96l-1.37-1.37c-.4-.4-.92-.59-1.43-.59-.52 0-1.04.2-1.43.59L10.3 9.45l-7.72 7.72c-.78.78-.78 2.05 0 2.83L4 21.41c.39.39.9.59 1.41.59.51 0 1.02-.2 1.41-.59l7.78-7.78 2.81-2.81c.8-.78.8-2.07 0-2.86zM5.41 20L4 18.59l7.72-7.72 1.47 1.35L5.41 20z\"/>\n",
              "  </svg>\n",
              "      </button>\n",
              "      \n",
              "  <style>\n",
              "    .colab-df-container {\n",
              "      display:flex;\n",
              "      flex-wrap:wrap;\n",
              "      gap: 12px;\n",
              "    }\n",
              "\n",
              "    .colab-df-convert {\n",
              "      background-color: #E8F0FE;\n",
              "      border: none;\n",
              "      border-radius: 50%;\n",
              "      cursor: pointer;\n",
              "      display: none;\n",
              "      fill: #1967D2;\n",
              "      height: 32px;\n",
              "      padding: 0 0 0 0;\n",
              "      width: 32px;\n",
              "    }\n",
              "\n",
              "    .colab-df-convert:hover {\n",
              "      background-color: #E2EBFA;\n",
              "      box-shadow: 0px 1px 2px rgba(60, 64, 67, 0.3), 0px 1px 3px 1px rgba(60, 64, 67, 0.15);\n",
              "      fill: #174EA6;\n",
              "    }\n",
              "\n",
              "    [theme=dark] .colab-df-convert {\n",
              "      background-color: #3B4455;\n",
              "      fill: #D2E3FC;\n",
              "    }\n",
              "\n",
              "    [theme=dark] .colab-df-convert:hover {\n",
              "      background-color: #434B5C;\n",
              "      box-shadow: 0px 1px 3px 1px rgba(0, 0, 0, 0.15);\n",
              "      filter: drop-shadow(0px 1px 2px rgba(0, 0, 0, 0.3));\n",
              "      fill: #FFFFFF;\n",
              "    }\n",
              "  </style>\n",
              "\n",
              "      <script>\n",
              "        const buttonEl =\n",
              "          document.querySelector('#df-9aea7d4f-b8f3-4360-b532-c263116b52be button.colab-df-convert');\n",
              "        buttonEl.style.display =\n",
              "          google.colab.kernel.accessAllowed ? 'block' : 'none';\n",
              "\n",
              "        async function convertToInteractive(key) {\n",
              "          const element = document.querySelector('#df-9aea7d4f-b8f3-4360-b532-c263116b52be');\n",
              "          const dataTable =\n",
              "            await google.colab.kernel.invokeFunction('convertToInteractive',\n",
              "                                                     [key], {});\n",
              "          if (!dataTable) return;\n",
              "\n",
              "          const docLinkHtml = 'Like what you see? Visit the ' +\n",
              "            '<a target=\"_blank\" href=https://colab.research.google.com/notebooks/data_table.ipynb>data table notebook</a>'\n",
              "            + ' to learn more about interactive tables.';\n",
              "          element.innerHTML = '';\n",
              "          dataTable['output_type'] = 'display_data';\n",
              "          await google.colab.output.renderOutput(dataTable, element);\n",
              "          const docLink = document.createElement('div');\n",
              "          docLink.innerHTML = docLinkHtml;\n",
              "          element.appendChild(docLink);\n",
              "        }\n",
              "      </script>\n",
              "    </div>\n",
              "  </div>\n",
              "  "
            ]
          },
          "metadata": {},
          "execution_count": 6
        }
      ]
    },
    {
      "cell_type": "markdown",
      "source": [
        "In the above scenario,yf are outcomes observed with the treatment(t) i.e family support is given(t=1), no family support(t=0).ycf(counterfactuals) are the outcomes that would have been observed had the treatment been different."
      ],
      "metadata": {
        "id": "MqUdLvBGHABT"
      }
    },
    {
      "cell_type": "code",
      "source": [
        "print('ihdp dataset:', ihdp_data.columns)\n",
        "print('ihdp dataset shape:', ihdp_data.shape)\n"
      ],
      "metadata": {
        "id": "mCSjCj68bXGX",
        "outputId": "251c012e-36b2-4e39-d4a8-20dc9898f059",
        "colab": {
          "base_uri": "https://localhost:8080/"
        }
      },
      "execution_count": null,
      "outputs": [
        {
          "output_type": "stream",
          "name": "stdout",
          "text": [
            "ihdp dataset: Index(['x1', 'x2', 'x3', 'x4', 'x5', 'x6', 'x7', 'x8', 'x9', 'x10', 'x11',\n",
            "       'x12', 'x13', 'x14', 'x15', 'x16', 'x17', 'x18', 'x19', 'x20', 'x21',\n",
            "       'x22', 'x23', 'x24', 'x25', 't', 'yf', 'ycf', 'ite'],\n",
            "      dtype='object')\n",
            "ihdp dataset shape: (747, 29)\n"
          ]
        }
      ]
    },
    {
      "cell_type": "code",
      "source": [
        "ihdp_data.isnull().sum()"
      ],
      "metadata": {
        "colab": {
          "base_uri": "https://localhost:8080/"
        },
        "id": "mqU3NRD-9_9T",
        "outputId": "cc664218-02d1-4f89-8fcc-90efc624da74"
      },
      "execution_count": null,
      "outputs": [
        {
          "output_type": "execute_result",
          "data": {
            "text/plain": [
              "x1     0\n",
              "x2     0\n",
              "x3     0\n",
              "x4     0\n",
              "x5     0\n",
              "x6     0\n",
              "x7     0\n",
              "x8     0\n",
              "x9     0\n",
              "x10    0\n",
              "x11    0\n",
              "x12    0\n",
              "x13    0\n",
              "x14    0\n",
              "x15    0\n",
              "x16    0\n",
              "x17    0\n",
              "x18    0\n",
              "x19    0\n",
              "x20    0\n",
              "x21    0\n",
              "x22    0\n",
              "x23    0\n",
              "x24    0\n",
              "x25    0\n",
              "t      0\n",
              "yf     0\n",
              "ycf    0\n",
              "ite    0\n",
              "dtype: int64"
            ]
          },
          "metadata": {},
          "execution_count": 8
        }
      ]
    },
    {
      "cell_type": "code",
      "source": [
        "X=ihdp_data[['x1','x2','x3','x4','x5','x6','x7','x8','x9','x10','x11','x12','x13','x14','x15','x16','x17','x18','x19','x20','x21','x22','x23','x24','x25']]\n",
        "T=ihdp_data['t']\n",
        "Yf=ihdp_data['yf']\n",
        "Ycf=ihdp_data['ycf']\n",
        "ite=ihdp_data['ite']"
      ],
      "metadata": {
        "id": "b7jiLZz4bkN6"
      },
      "execution_count": null,
      "outputs": []
    },
    {
      "cell_type": "code",
      "source": [
        "Tp=pd.DataFrame(data=T)\n",
        "Xp = pd.DataFrame(data=X)\n",
        "X_new=Xp.join(Tp)"
      ],
      "metadata": {
        "id": "OpvKGNA_c-Aq"
      },
      "execution_count": null,
      "outputs": []
    },
    {
      "cell_type": "code",
      "source": [
        "Yf.describe()"
      ],
      "metadata": {
        "colab": {
          "base_uri": "https://localhost:8080/"
        },
        "id": "lu0Af3HgXdrc",
        "outputId": "f69a94f3-0d05-44af-ce2a-446ee9bbff9d"
      },
      "execution_count": null,
      "outputs": [
        {
          "output_type": "execute_result",
          "data": {
            "text/plain": [
              "count    747.000000\n",
              "mean       3.159538\n",
              "std        2.179956\n",
              "min       -1.543902\n",
              "25%        1.626779\n",
              "50%        2.577294\n",
              "75%        4.494637\n",
              "max       11.268228\n",
              "Name: yf, dtype: float64"
            ]
          },
          "metadata": {},
          "execution_count": 11
        }
      ]
    },
    {
      "cell_type": "code",
      "source": [
        "T.value_counts()"
      ],
      "metadata": {
        "id": "WuUP0CWG8qR9",
        "outputId": "49abc3a4-45d0-4269-8a61-d14dceadf792",
        "colab": {
          "base_uri": "https://localhost:8080/"
        }
      },
      "execution_count": null,
      "outputs": [
        {
          "output_type": "execute_result",
          "data": {
            "text/plain": [
              "0.0    608\n",
              "1.0    139\n",
              "Name: t, dtype: int64"
            ]
          },
          "metadata": {},
          "execution_count": 12
        }
      ]
    },
    {
      "cell_type": "markdown",
      "source": [
        "Checking the plots of continuous features on outcome"
      ],
      "metadata": {
        "id": "ks-0Z2dIYkHL"
      }
    },
    {
      "cell_type": "code",
      "source": [
        "axes = Xp.hist(color='g', alpha=0.5, bins=20, figsize=(15,20), layout=(5, 5))\n",
        "plt.suptitle(\"X Features\", size=50)\n"
      ],
      "metadata": {
        "id": "2Wt4jaEYJUBo",
        "outputId": "68389f96-2133-4216-e86c-84df2eca4327",
        "colab": {
          "base_uri": "https://localhost:8080/",
          "height": 1000
        }
      },
      "execution_count": null,
      "outputs": [
        {
          "output_type": "execute_result",
          "data": {
            "text/plain": [
              "Text(0.5, 0.98, 'X Features')"
            ]
          },
          "metadata": {},
          "execution_count": 13
        },
        {
          "output_type": "display_data",
          "data": {
            "text/plain": [
              "<Figure size 1080x1440 with 25 Axes>"
            ],
            "image/png": "[encoded data removed]"
          },
          "metadata": {
            "needs_background": "light"
          }
        }
      ]
    },
    {
      "cell_type": "code",
      "source": [
        "bins=20\n",
        "fig, axs = plt.subplots(1, 4, figsize=(16, 5))\n",
        "axs[0].hist(T, bins=bins)\n",
        "axs[1].hist(Yf, bins=bins)\n",
        "axs[2].hist(Ycf, bins=bins)\n",
        "axs[3].hist(ite, bins=bins)\n",
        "axs[0].title.set_text('T')\n",
        "axs[1].title.set_text('Y Factuals')\n",
        "axs[2].title.set_text('Y Counter Factuals')\n",
        "axs[3].title.set_text('Individual Treatment Effect')\n",
        "plt.show()\n"
      ],
      "metadata": {
        "id": "0Bk-7_5RkJy8",
        "outputId": "9c3572c9-5957-4bb7-8d8a-4d62691ab069",
        "colab": {
          "base_uri": "https://localhost:8080/",
          "height": 336
        }
      },
      "execution_count": null,
      "outputs": [
        {
          "output_type": "display_data",
          "data": {
            "text/plain": [
              "<Figure size 1152x360 with 4 Axes>"
            ],
            "image/png": "[encoded data removed]"
          },
          "metadata": {
            "needs_background": "light"
          }
        }
      ]
    },
    {
      "cell_type": "markdown",
      "source": [
        "#Refute"
      ],
      "metadata": {
        "id": "3ue3J_vY410Z"
      }
    },
    {
      "cell_type": "markdown",
      "source": [
        "#Data Pre-processing:"
      ],
      "metadata": {
        "id": "n68gHCYMoJr5"
      }
    },
    {
      "cell_type": "code",
      "source": [
        "x_train, x_test,t_train,t_test,yf_train, yf_test, ite_train, ite_test = train_test_split(X_new,T, Yf, ite, test_size=0.2)\n",
        "\n",
        "scaler_x = StandardScaler()\n",
        "#x_train = scaler_x.fit_transform(x_train)\n",
        "#x_test = scaler_x.transform(x_test)"
      ],
      "metadata": {
        "id": "-BosFZi12DrO"
      },
      "execution_count": null,
      "outputs": []
    },
    {
      "cell_type": "code",
      "source": [
        "# Training data to numpy\n",
        "#T_train=np.array(t_train).reshape(-1,1)\n",
        "Yf_train = np.array(yf_train).reshape(-1, 1)\n",
        "ITE_train = np.array(ite_train).reshape(-1,1)\n",
        "\n",
        "# Testing data to numpy\n",
        "#T_test=np.array(t_test).reshape(-1,1)\n",
        "Yf_test= np.array(yf_test).reshape(-1, 1)\n",
        "ITE_test = np.array(ite_test).reshape(-1,1)"
      ],
      "metadata": {
        "id": "xszG4EKR9QTz"
      },
      "execution_count": null,
      "outputs": []
    },
    {
      "cell_type": "markdown",
      "source": [
        "**Treatment Effect:**        \n",
        "\n",
        "The Average Treatment Effect (ATE) builds on ITE:\n",
        "AT E = E[ITE]\n",
        "Note: empirical (sample) ATE is the mean of ITEs"
      ],
      "metadata": {
        "id": "EaXxqLY7seHM"
      }
    },
    {
      "cell_type": "code",
      "source": [
        "ATE=np.mean(ite)\n",
        "ATE"
      ],
      "metadata": {
        "id": "Ramw-FfNcP-a",
        "colab": {
          "base_uri": "https://localhost:8080/",
          "height": 38
        },
        "outputId": "e42fb331-50a2-4878-b17e-6376d0e33979"
      },
      "execution_count": null,
      "outputs": [
        {
          "output_type": "execute_result",
          "data": {
            "text/plain": [
              "4.016066896118339"
            ],
            "image/png": "[encoded data removed]",
            "text/latex": "$\\displaystyle 4.01606689611834$"
          },
          "metadata": {},
          "execution_count": 18
        }
      ]
    },
    {
      "cell_type": "code",
      "source": [
        "from sklearn.ensemble import RandomForestRegressor, RandomForestClassifier\n",
        "\n",
        "# Random Forest with default parameters.\n",
        "rf = RandomForestRegressor()\n",
        "\n",
        "# Training the regressor\n",
        "rf.fit(x_train, Yf_train)\n",
        "\n",
        "# Predictions\n",
        "xt0_test = x_test[x_test['t']==0]\n",
        "rf_y0_test = rf.predict(xt0_test)\n",
        "\n",
        "xt1_test = x_test[x_test['t']==1]\n",
        "rf_y1_test = rf.predict(xt1_test)\n",
        "\n",
        "# Compute ITEs\n",
        "rf_te_test = rf_y1_test - rf_y0_test"
      ],
      "metadata": {
        "id": "4ExZhhNLqYb5",
        "outputId": "19a0fa4d-749b-41aa-c8ea-e19a7e0fe071",
        "colab": {
          "base_uri": "https://localhost:8080/",
          "height": 225
        }
      },
      "execution_count": null,
      "outputs": [
        {
          "output_type": "stream",
          "name": "stderr",
          "text": [
            "A column-vector y was passed when a 1d array was expected. Please change the shape of y to (n_samples,), for example using ravel().\n"
          ]
        },
        {
          "output_type": "error",
          "ename": "ValueError",
          "evalue": "ignored",
          "traceback": [
            "\u001b[0;31m---------------------------------------------------------------------------\u001b[0m",
            "\u001b[0;31mValueError\u001b[0m                                Traceback (most recent call last)",
            "\u001b[0;32m<ipython-input-19-04df936235f8>\u001b[0m in \u001b[0;36m<module>\u001b[0;34m()\u001b[0m\n\u001b[1;32m     15\u001b[0m \u001b[0;34m\u001b[0m\u001b[0m\n\u001b[1;32m     16\u001b[0m \u001b[0;31m# Compute ITEs\u001b[0m\u001b[0;34m\u001b[0m\u001b[0;34m\u001b[0m\u001b[0;34m\u001b[0m\u001b[0m\n\u001b[0;32m---> 17\u001b[0;31m \u001b[0mrf_te_test\u001b[0m \u001b[0;34m=\u001b[0m \u001b[0mrf_y1_test\u001b[0m \u001b[0;34m-\u001b[0m \u001b[0mrf_y0_test\u001b[0m\u001b[0;34m\u001b[0m\u001b[0;34m\u001b[0m\u001b[0m\n\u001b[0m",
            "\u001b[0;31mValueError\u001b[0m: operands could not be broadcast together with shapes (35,) (115,) "
          ]
        }
      ]
    },
    {
      "cell_type": "code",
      "source": [
        ""
      ],
      "metadata": {
        "id": "2f_TNYQZqYYW"
      },
      "execution_count": null,
      "outputs": []
    },
    {
      "cell_type": "code",
      "source": [
        ""
      ],
      "metadata": {
        "id": "78B8sulVqYKz"
      },
      "execution_count": null,
      "outputs": []
    },
    {
      "cell_type": "markdown",
      "source": [
        "#LINEAR REGRESSION"
      ],
      "metadata": {
        "id": "4ZXEVriaqwys"
      }
    },
    {
      "cell_type": "markdown",
      "source": [
        "Description:"
      ],
      "metadata": {
        "id": "YKpY1p6upai7"
      }
    },
    {
      "cell_type": "markdown",
      "source": [
        " As we need to predict a numerical output,it will be a regression modelling.\n",
        "With Linear Regression model I will estimate P(Y|X,T) , that is, we regress Y on X and T. Once trained, the model predicts potential outcomes  y^(i)t . Thus, to obtain ITE predictions for each individual, we need to predict both  yf^  and  ycf^ , that is, predict the outcomes for both factual and counterfactual treatments for each individual.\n",
        "\n",
        "By calculating the difference between the factual and counterfactual outcome, we can obtain the effect per given individual. In other words:\n",
        "\n",
        "ITEˆ(i)=yf^−ycf^"
      ],
      "metadata": {
        "id": "0YvhHRfBpWpv"
      }
    },
    {
      "cell_type": "markdown",
      "source": [
        "We will merge both X columns and Treatment column and build a model to make predictions on outcome.then compute ATE^ by taking average of sum of ITE^ which is obtained by diffecences of yf^ and ycf^ from test data."
      ],
      "metadata": {
        "id": "b8tmJ2NGtBhX"
      }
    },
    {
      "cell_type": "markdown",
      "source": [
        ""
      ],
      "metadata": {
        "id": "cUfLjhlIVCvR"
      }
    },
    {
      "cell_type": "markdown",
      "source": [
        "#Evaluation"
      ],
      "metadata": {
        "id": "DyT7o4wbwBwE"
      }
    },
    {
      "cell_type": "markdown",
      "source": [
        "econml.dr.LinearDRLearner() is the CATE Estimator I am planning to use for double robustness and evaluate my predictions using metrics functions Abs_ate and pehe functions."
      ],
      "metadata": {
        "id": "VMEq00dJxS7Q"
      }
    },
    {
      "cell_type": "markdown",
      "source": [
        "To clean up residual covariate imbalance,regression adjustment like \"double robustness\" is used."
      ],
      "metadata": {
        "id": "xnHekUssvmmT"
      }
    },
    {
      "cell_type": "markdown",
      "source": [
        "Function to compute sample weights.\n",
        "\n"
      ],
      "metadata": {
        "id": "W27nHsEOtBuj"
      }
    },
    {
      "cell_type": "code",
      "source": [
        "def get_ps_weights(clf, x, t):\n",
        "  ti = np.squeeze(t)\n",
        "  clf.fit(x, ti)\n",
        "  ptx = clf.predict_proba(x).T[1].T + 0.0001\n",
        "  wi = ((ti/ptx)+((1-ti)/(1-ptx))) \n",
        "  return wi"
      ],
      "metadata": {
        "id": "pkyFzZsXtCQU"
      },
      "execution_count": null,
      "outputs": []
    },
    {
      "cell_type": "markdown",
      "source": [
        "#PART-2"
      ],
      "metadata": {
        "id": "ZTWHNmDJE7Yf"
      }
    },
    {
      "cell_type": "markdown",
      "source": [
        "\n",
        "\n",
        "---------------------------------------------------------------------------------------------------------\n",
        "\n"
      ],
      "metadata": {
        "id": "5t0XwtNa3ZTF"
      }
    },
    {
      "cell_type": "markdown",
      "source": [
        "#1.Problem Setting\n",
        "To check how the employment status of people depends on job training from NSWP."
      ],
      "metadata": {
        "id": "YxL33xShE5rh"
      }
    },
    {
      "cell_type": "markdown",
      "source": [
        "Loading Jobs Dataset:"
      ],
      "metadata": {
        "id": "V4uDfJhZFZTy"
      }
    },
    {
      "cell_type": "markdown",
      "source": [
        "The Jobs dataset is a combination of the experiment done by as part of the National\n",
        "Supported Work Program (NSWP) and observational data from the Panel Study of Income Dynamics (PSID)"
      ],
      "metadata": {
        "id": "IuHMGvGkFZXY"
      }
    },
    {
      "cell_type": "code",
      "source": [
        "Jobs_data=pd.read_csv('https://raw.githubusercontent.com/dmachlanski/CE888_2022/main/project/data/jobs.csv')\n",
        "Jobs_data.head()"
      ],
      "metadata": {
        "id": "hqBglz8A3jV6"
      },
      "execution_count": null,
      "outputs": []
    },
    {
      "cell_type": "code",
      "source": [
        "Jobs_data.describe()"
      ],
      "metadata": {
        "id": "0Nl0ae7dqYi2"
      },
      "execution_count": null,
      "outputs": []
    },
    {
      "cell_type": "markdown",
      "source": [
        "Checking the outcomes for how many had undergone NSWP training and has got job placement.\n"
      ],
      "metadata": {
        "id": "38_xNK7nzd56"
      }
    },
    {
      "cell_type": "code",
      "source": [
        "Jobs_data['y'].value_counts()"
      ],
      "metadata": {
        "id": "yrfY95TEUru7"
      },
      "execution_count": null,
      "outputs": []
    },
    {
      "cell_type": "markdown",
      "source": [
        "Checking for any null values in data."
      ],
      "metadata": {
        "id": "zaUBrawHzu5x"
      }
    },
    {
      "cell_type": "code",
      "source": [
        "Jobs_data.isnull().sum()"
      ],
      "metadata": {
        "id": "fll3xfMuqjnC"
      },
      "execution_count": null,
      "outputs": []
    },
    {
      "cell_type": "code",
      "source": [
        "X_jobs=Jobs_data[['x1','x2','x3','x4','x5','x6','x7','x8','x9','x10','x11','x12','x13','x14','x15','x16','x17']]\n",
        "T_jobs=Jobs_data['t']\n",
        "Y_jobs=Jobs_data['y']\n",
        "e_jobs=Jobs_data['e']"
      ],
      "metadata": {
        "id": "ulIbRGc9Q75o"
      },
      "execution_count": null,
      "outputs": []
    },
    {
      "cell_type": "code",
      "source": [
        "e_jobs.value_counts()"
      ],
      "metadata": {
        "id": "2TBHp4JQ8Qib"
      },
      "execution_count": null,
      "outputs": []
    },
    {
      "cell_type": "code",
      "source": [
        "Jobs_data.hist(column='y',by='t')"
      ],
      "metadata": {
        "id": "sK_eAPdNPgDt"
      },
      "execution_count": null,
      "outputs": []
    },
    {
      "cell_type": "markdown",
      "source": [
        "#Data Pre-processing:"
      ],
      "metadata": {
        "id": "dWqOyKqcyyy6"
      }
    },
    {
      "cell_type": "markdown",
      "source": [
        "Data is split into Training and Testing sets in 80:20 ratio where training data is used for modelling and test data is used for predictions and evaluation."
      ],
      "metadata": {
        "id": "I2kMa0myO8KU"
      }
    },
    {
      "cell_type": "code",
      "source": [
        "X_jobs_train, X_jobs_test, T_jobs_train, T_jobs_test, Y_jobs_train, Y_jobs_test, e_jobs_train, e_jobs_test = train_test_split(X_jobs, T_jobs, Y_jobs, e_jobs, test_size=0.2)\n",
        "\n",
        "scaler_x = StandardScaler()\n",
        "X_jobs_train = scaler_x.fit_transform(X_jobs_train)\n",
        "X_jobs_test = scaler_x.transform(X_jobs_test)"
      ],
      "metadata": {
        "id": "N8-epHqoyxvS"
      },
      "execution_count": null,
      "outputs": []
    },
    {
      "cell_type": "markdown",
      "source": [
        "#LOGISTIC REGRESSION"
      ],
      "metadata": {
        "id": "UErpekAAOI4R"
      }
    },
    {
      "cell_type": "markdown",
      "source": [
        "Description:"
      ],
      "metadata": {
        "id": "1lD9E1cGOcj2"
      }
    },
    {
      "cell_type": "markdown",
      "source": [
        "As we need to predict a binary output,it will be a logistic regression modelling.We can also choose different models like decision trees,random forest.\n",
        "With Logistic Regression model I will estimate P(Y|X,T) , that is, we regress Y on X and T. Once trained, the model predicts potential outcomes  y^(i)t .\n",
        "\n",
        "\n"
      ],
      "metadata": {
        "id": "lIBcikZzOhU9"
      }
    },
    {
      "cell_type": "markdown",
      "source": [
        "# Modelling and Making predictions"
      ],
      "metadata": {
        "id": "QVLab9xsP1Ju"
      }
    },
    {
      "cell_type": "markdown",
      "source": [
        "#Evaluation"
      ],
      "metadata": {
        "id": "yJS7YrY1QC5i"
      }
    },
    {
      "cell_type": "markdown",
      "source": [
        "We can then choose CATE estimators and can compare S-learner,T-learner,X-learner using violin plots"
      ],
      "metadata": {
        "id": "cnyASIoCQHem"
      }
    },
    {
      "cell_type": "code",
      "source": [
        ""
      ],
      "metadata": {
        "id": "QEioAnAkO5LS"
      },
      "execution_count": null,
      "outputs": []
    }
  ]
}